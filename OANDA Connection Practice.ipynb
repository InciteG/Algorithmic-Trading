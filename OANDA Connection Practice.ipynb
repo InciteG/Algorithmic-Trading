{
 "cells": [
  {
   "cell_type": "code",
   "execution_count": 2,
   "id": "ad31b239",
   "metadata": {},
   "outputs": [
    {
     "name": "stdout",
     "output_type": "stream",
     "text": [
      "Looking in indexes: hhtps://test.pypi.org/simple/\n"
     ]
    },
    {
     "name": "stderr",
     "output_type": "stream",
     "text": [
      "WARNING: Url 'hhtps://test.pypi.org/simple/tpqoa/' is ignored. It is either a non-existing path or lacks a specific scheme.\n",
      "ERROR: Could not find a version that satisfies the requirement tpqoa\n",
      "ERROR: No matching distribution found for tpqoa\n"
     ]
    }
   ],
   "source": [
    "# !pip install ujson\n",
    "# !pip install v20\n",
    "# !pip install PyYAML\n",
    "# pip install --upgrade git+https://github.com/yhilpisch/tpqoa.git"
   ]
  },
  {
   "cell_type": "code",
   "execution_count": null,
   "id": "82cde9b2",
   "metadata": {},
   "outputs": [],
   "source": [
    "api_key = \n"
   ]
  },
  {
   "cell_type": "code",
   "execution_count": null,
   "id": "0e10f6c5",
   "metadata": {},
   "outputs": [],
   "source": []
  }
 ],
 "metadata": {
  "kernelspec": {
   "display_name": "Python 3",
   "language": "python",
   "name": "python3"
  },
  "language_info": {
   "codemirror_mode": {
    "name": "ipython",
    "version": 3
   },
   "file_extension": ".py",
   "mimetype": "text/x-python",
   "name": "python",
   "nbconvert_exporter": "python",
   "pygments_lexer": "ipython3",
   "version": "3.8.8"
  }
 },
 "nbformat": 4,
 "nbformat_minor": 5
}
